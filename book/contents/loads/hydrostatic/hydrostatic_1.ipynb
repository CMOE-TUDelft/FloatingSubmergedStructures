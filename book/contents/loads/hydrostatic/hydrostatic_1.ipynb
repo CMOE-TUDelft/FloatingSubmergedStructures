{
 "cells": [
  {
   "cell_type": "markdown",
   "id": "ec622b22-95c1-4398-91ab-a7701eb44db7",
   "metadata": {},
   "source": [
    "# Hydrostatics of submerged cylinder"
   ]
  },
  {
   "cell_type": "markdown",
   "id": "14623ce6",
   "metadata": {},
   "source": [
    "## Summary of the Notebook\n",
    "\n",
    "This notebook demonstrates a numerical approach to evaluate the submerged depth of arbitrarily shaped bodies, specifically cylindrical structures, in a fluid. It includes the following steps:\n",
    "\n",
    "1. **Constants Definition**: Physical constants such as gravitational acceleration, water density, and domain dimensions are defined.\n",
    "2. **Cylindrical Structures**: Cylindrical objects are modeled with their geometry and nodes, and their elements are visualized.\n",
    "3. **Static Pressure Calculation**: A function is implemented to compute the static pressure distribution in the fluid.\n",
    "4. **Visualization**: The static pressure field and the cylindrical structures are plotted for better understanding.\n",
    "5. **Force Calculation**: The forces acting on the cylindrical structures due to the pressure distribution are computed using numerical integration.\n",
    "6. **Draft Calculation**: The submerged depth (draft) of floating cylindrical bodies is determined by solving a nonlinear equation using numerical optimization.\n",
    "7. **Final Visualization**: The pressure field and the equilibrium positions of the floating cylinders are visualized.\n",
    "\n",
    "This approach provides insights into hydrostatics and the interaction of submerged bodies with fluid pressure fields."
   ]
  },
  {
   "cell_type": "code",
   "execution_count": 14,
   "id": "19e59a0e-aaf3-494a-a252-9b12490d66c9",
   "metadata": {},
   "outputs": [],
   "source": [
    "import numpy as np\n",
    "import math as math\n",
    "from scipy import optimize\n",
    "import matplotlib.pylab as plt\n",
    "from matplotlib.legend_handler import HandlerLine2D\n",
    "\n",
    "%matplotlib inline\n",
    "from matplotlib.pylab import rcParams\n",
    "rcParams['figure.figsize'] = 15, 6\n",
    "pass"
   ]
  },
  {
   "cell_type": "markdown",
   "id": "a94e23ed",
   "metadata": {
    "vscode": {
     "languageId": "markdown"
    }
   },
   "source": [
    "## Define Variables\n",
    "\n",
    "- `g`: Gravitational acceleration (m/s²).\n",
    "- `rhoW`: Density of water (kg/m³).\n",
    "- `d`: Depth of water (m).\n",
    "\n",
    "For visualising the pressure contour\n",
    "\n",
    "- `xdom`: Tuple defining the x-domain range (start, end) for the simulation (m).\n",
    "- `dx`: Step size in the x-direction (m).\n",
    "- `dz`: Step size in the z-direction (m)."
   ]
  },
  {
   "cell_type": "code",
   "execution_count": 15,
   "id": "5d67e57e-9657-4aad-a59c-019bed0cf5be",
   "metadata": {},
   "outputs": [],
   "source": [
    "# Constants \n",
    "g = 9.81  #m/s2\n",
    "rhoW = 1000  #kg/m3\n",
    "d = 10 #m (water-depth)\n",
    "xdom = (0, 30)\n",
    "dx = 1\n",
    "dz = 1"
   ]
  },
  {
   "cell_type": "markdown",
   "id": "e559e156-1c19-4e67-8898-fc02a061f85a",
   "metadata": {},
   "source": [
    "## Define cylindrical structures"
   ]
  },
  {
   "cell_type": "markdown",
   "id": "702556f4",
   "metadata": {},
   "source": [
    "- We will use the concept of finite elements for this problem.\n",
    "- It will therefore serve as a simple problem to understand the FE concepts\n",
    "\n",
    "Let us now define some function which will be requred for this analysis."
   ]
  },
  {
   "cell_type": "markdown",
   "id": "ac44a153",
   "metadata": {},
   "source": [
    "### Class `Cyl`\n",
    "#### Function `__init__()`:\n",
    "\n",
    "- Inputs: It takes the center position `(x0, z0)`, radius (`R`), and angular step size (`dth`) as inputs.\n",
    "- Process: It creates a mesh to define the cylinder surface. \n",
    "    - This is done simply by defining the position of the nodes as nodes on the circle\n",
    "    - Define a connectivitiy array `self.Ele`, containing the node associated with the element in the anti-clockwise order\n",
    "    - We also initialise a pressure field `self.P` on these nodes. This will be used later for calculating the buoyant force on the structure.\n",
    "\n",
    "#### Function `plotEle()`:\n",
    "\n",
    "- This function will plot the cylinder in the 2D space, based on the provided position of the centre `(x0, z0)` and the radius `R` of the cylinder"
   ]
  },
  {
   "cell_type": "code",
   "execution_count": 16,
   "id": "302a3c5b-0fc4-4aec-bd6d-73d0870311a7",
   "metadata": {},
   "outputs": [],
   "source": [
    "class Cyl:\n",
    "    def __init__(self, x0, z0, R, dth):\n",
    "        thMat = np.arange(0, 360, dth) #deg\n",
    "        cx = x0 + R*np.cos( np.deg2rad(thMat) )\n",
    "        cz = z0 + R*np.sin( np.deg2rad(thMat) )\n",
    "        self.cx = cx\n",
    "        self.cz = cz\n",
    "        self.NodeC = [ [x, z] for x,z in zip (cx, cz) ]\n",
    "        self.nNode = len(self.NodeC)\n",
    "        self.Ele = [ [n1, n2] for n1,n2 in \n",
    "                    zip( range(0,self.nNode-1), range(1,self.nNode)) ]\n",
    "        self.Ele.append([self.nNode-1, 0])\n",
    "        self.nEle = len(self.Ele)\n",
    "        self.P = np.zeros(self.nNode)\n",
    "        \n",
    "    def plotEle(self):        \n",
    "        for iEle in range(0,self.nEle):\n",
    "            n1, n2 = self.Ele[iEle]\n",
    "            n1 = int(round(n1))\n",
    "            n2 = int(round(n2))\n",
    "            plt.plot( [self.NodeC[n1][0], self.NodeC[n2][0]],\n",
    "                     [self.NodeC[n1][1], self.NodeC[n2][1]],\n",
    "                     lw=3, color='k')        \n",
    "            \n",
    "        \n",
    "# Cyl(x0, z0, R, dthDeg):"
   ]
  },
  {
   "cell_type": "markdown",
   "id": "a969df8f",
   "metadata": {},
   "source": [
    "### Function `gaussQuad2P`:\n",
    "\n",
    "This function, gaussQuad2P, calculates the integral of a scalar field (e.g., pressure) multiplied by the normal vector of a surface along the entire domain using the 2-point Gaussian quadrature method. \n",
    "\n",
    "$$\n",
    "\\vec{F} = \\int_\\Omega p \\, \\vec{n} \\, d\\Omega\n",
    "$$\n",
    "\n",
    "\n",
    "It works by:\n",
    "\n",
    "- Iterating over all elements of the surface.\n",
    "- Computing the length of each element and its normal vector.\n",
    "- Evaluating the scalar field at two Gaussian quadrature points within each element.\n",
    "- Summing the contributions of these points to the total force components (sumFx and sumFz) in the x and z directions.\n",
    "- This method ensures accurate numerical integration of the scalar field over the surface.\n",
    "\n"
   ]
  },
  {
   "cell_type": "code",
   "execution_count": 17,
   "id": "0c8300c6",
   "metadata": {},
   "outputs": [],
   "source": [
    "def gaussQuad2P( nEle, nNode, Ele, NodeC, P):\n",
    "    sumFx = 0.0\n",
    "    sumFz = 0.0\n",
    "    for iEle in range(0,nEle):\n",
    "        n1, n2 = Ele[iEle]\n",
    "        n1 = int(round(n1))\n",
    "        n2 = int(round(n2))\n",
    "        x1,z1 = NodeC[n1]\n",
    "        x2,z2 = NodeC[n2]\n",
    "        p1 = P[n1]\n",
    "        p2 = P[n2]\n",
    "        \n",
    "        lele = np.sqrt( (x2-x1)**2 + (z2-z1)**2 )        \n",
    "        nx = (z2-z1)/lele\n",
    "        nz = -(x2-x1)/lele\n",
    "        \n",
    "        ep1 = 0.5*(1-1/np.sqrt(3))\n",
    "        ep2 = 0.5*(1+1/np.sqrt(3))\n",
    "        q1p = (1-ep1)*p1 + ep1*p2\n",
    "        q2p = (1-ep2)*p1 + ep2*p2\n",
    "        sumFx += (q1p + q2p)*lele/2*(-nx)\n",
    "        sumFz += (q1p + q2p)*lele/2*(-nz)\n",
    "    return sumFx, sumFz\n",
    "\n",
    "pass"
   ]
  },
  {
   "cell_type": "markdown",
   "id": "cfcafc8b-4ea8-4995-aae2-505049ddfb22",
   "metadata": {},
   "source": [
    "## Define pressure"
   ]
  },
  {
   "cell_type": "markdown",
   "id": "2e2afe33",
   "metadata": {
    "vscode": {
     "languageId": "markdown"
    }
   },
   "source": [
    "### Function `statPressure` \n",
    "\n",
    "- The function calculates the static pressure at a given point in the fluid. \n",
    "\n",
    "#### Inputs:\n",
    "- `x`: x-coordinate(s) of the point(s) (m).\n",
    "- `z`: z-coordinate(s) of the point(s) (m).\n",
    "\n",
    "#### Outputs:\n",
    "- `Ps`: Static pressure at the given point(s) (Pa).\n",
    "\n",
    "#### Process:\n",
    "- The function computes the pressure using the formula `Ps = -rhoW * g * z`, where `rhoW` is the density of water and `g` is the gravitational acceleration.\n",
    "- If the calculated pressure is negative (above the water surface), it is set to zero using `np.maximum`."
   ]
  },
  {
   "cell_type": "code",
   "execution_count": 18,
   "id": "1d73cd1c-18d4-4557-9b32-89c68509f01b",
   "metadata": {},
   "outputs": [],
   "source": [
    "# Function to define static pressure\n",
    "def statPressure(x,z):\n",
    "    Ps = -rhoW * g * z\n",
    "    Psz = 0*Ps\n",
    "    Ps = np.maximum(Ps, Psz)\n",
    "    return Ps"
   ]
  },
  {
   "cell_type": "markdown",
   "id": "1dfb0908",
   "metadata": {},
   "source": [
    "## Initilise cylinders"
   ]
  },
  {
   "cell_type": "markdown",
   "id": "69992be2",
   "metadata": {},
   "source": [
    "Now using the class `Cyl` we initilise two cylinders, one fully sumerged and one partially submerged."
   ]
  },
  {
   "cell_type": "code",
   "execution_count": 19,
   "id": "42b01a68",
   "metadata": {},
   "outputs": [],
   "source": [
    "cyl1 = Cyl(10, -5, 2, 0.1)\n",
    "cyl2 = Cyl(20, 0, 2, 0.1)"
   ]
  },
  {
   "cell_type": "markdown",
   "id": "b22dcde5-0a43-4e55-adfc-edf59d976237",
   "metadata": {},
   "source": [
    "## Visualize everything"
   ]
  },
  {
   "cell_type": "code",
   "execution_count": 20,
   "id": "23875d33-8f74-4c41-a606-636ccbbd5be1",
   "metadata": {},
   "outputs": [
    {
     "data": {
      "image/png": "[encoded data removed]",
      "text/plain": [
       "<Figure size 1500x600 with 2 Axes>"
      ]
     },
     "metadata": {},
     "output_type": "display_data"
    }
   ],
   "source": [
    "[X, Z] = np.meshgrid( np.arange(xdom[0], xdom[1]+1, 1), np.arange(-d, 0+1, 1) )\n",
    "Ps = statPressure(X, Z)\n",
    "\n",
    "plt.figure(1)\n",
    "plt.contourf(X, Z, Ps)\n",
    "plt.title('Static pressure')\n",
    "plt.xlabel('X (m)')\n",
    "plt.ylabel('Z (m)')\n",
    "cbar = plt.colorbar()\n",
    "cbar.set_label('Pressure (Pa)')\n",
    "\n",
    "cyl1.plotEle()\n",
    "cyl2.plotEle()\n",
    "\n",
    "#plt.grid(\"on\")\n",
    "plt.axis(\"equal\")\n",
    "plt.show()\n",
    "pass"
   ]
  },
  {
   "cell_type": "markdown",
   "id": "a895f8e8-2ad5-4043-80ae-f7093a64296b",
   "metadata": {},
   "source": [
    "## Calculate force"
   ]
  },
  {
   "cell_type": "markdown",
   "id": "4a619c2e",
   "metadata": {},
   "source": [
    "- We first initilise the static pressure on the nodes of the two cylinders.\n",
    "- For this we pass the array of all nodes of the cylinder in the `statPressure` function and obtain the corresponsidoing static pressure."
   ]
  },
  {
   "cell_type": "markdown",
   "id": "46a3172e",
   "metadata": {},
   "source": [
    "### THINK:\n",
    "\n",
    "How would you modify function to analyse the dynamic pressure on the cylinder due to wave action ?"
   ]
  },
  {
   "cell_type": "code",
   "execution_count": 21,
   "id": "87bc9445-d1e7-4e90-abbe-53f4a4590bcc",
   "metadata": {},
   "outputs": [],
   "source": [
    "cyl1.P = statPressure( cyl1.cx, cyl1.cz )\n",
    "cyl2.P = statPressure( cyl2.cx, cyl2.cz )"
   ]
  },
  {
   "cell_type": "markdown",
   "id": "14aec2c5",
   "metadata": {},
   "source": [
    "After the definition of the pressure field, we now use the function `gaussQuad2P` to integrate the pressure field multiplied with the surface normal, along the entire surface."
   ]
  },
  {
   "cell_type": "code",
   "execution_count": 22,
   "id": "38b10769",
   "metadata": {},
   "outputs": [
    {
     "name": "stdout",
     "output_type": "stream",
     "text": [
      "Cyl1 Fx Fz -2.8279600883251987e-11 123276.0331401297\n",
      "Cyl2 Fx Fz  -3.370873025154708e-12 61638.01657006472\n"
     ]
    }
   ],
   "source": [
    "cyl1.Fx, cyl1.Fz = gaussQuad2P( cyl1.nEle, cyl1.nNode, \n",
    "                               cyl1.Ele, cyl1.NodeC, cyl1.P )\n",
    "cyl2.Fx, cyl2.Fz = gaussQuad2P( cyl2.nEle, cyl2.nNode, \n",
    "                               cyl2.Ele, cyl2.NodeC, cyl2.P )\n",
    "\n",
    "print(\"Cyl1 Fx Fz\", cyl1.Fx, cyl1.Fz)\n",
    "print(\"Cyl2 Fx Fz \", cyl2.Fx, cyl2.Fz)"
   ]
  },
  {
   "cell_type": "markdown",
   "id": "c3451f63-a6ac-40da-9338-01ab1f7a4a06",
   "metadata": {},
   "source": [
    "## Solve for draft of floating body"
   ]
  },
  {
   "cell_type": "markdown",
   "id": "41800f23",
   "metadata": {},
   "source": [
    "Let us go a step further and now invert the problem. We will assume that we know the force, lets say the weight of the body and we want to find depth of submergence, or the draft, of the body. \n",
    "\n",
    "We do this by a iterative procedure."
   ]
  },
  {
   "cell_type": "markdown",
   "id": "9be78a6b",
   "metadata": {},
   "source": [
    "- The provided function `objectove_fnc()` defines an objective function that calculates the difference (error) between the buoyant force acting on a submerged cylindrical body (based on its assumed draft) and the predefined weight of the body. \n",
    "- This function is used in an iterative numerical solver (`optimize.fsolve()`) to adjust the draft until the buoyant force matches the weight, thereby determining the equilibrium submerged depth of the body.\n"
   ]
  },
  {
   "cell_type": "code",
   "execution_count": 23,
   "id": "97194741-d229-4ae1-acf1-dab7f7fafd14",
   "metadata": {},
   "outputs": [
    {
     "name": "stdout",
     "output_type": "stream",
     "text": [
      "Numerically calculated z0 =  [-1.0244031]\n",
      "Numerically calculated z0 =  [1.12334122]\n"
     ]
    }
   ],
   "source": [
    "def objective_fnc(sol,*data):    \n",
    "    z0 = sol\n",
    "    x0, R, dth, Fztarg = data\n",
    "    cyl = Cyl(x0, z0, R, dth)\n",
    "    cyl.P = statPressure( cyl.cx, cyl.cz )\n",
    "    cyl.Fx, cyl.Fz = gaussQuad2P( cyl.nEle, cyl.nNode, \n",
    "                                   cyl.Ele, cyl.NodeC, cyl.P )    \n",
    "    return (cyl.Fz - Fztarg)\n",
    "\n",
    "cylWei = 100000 #kg\n",
    "data = (10, 2, 0.5, cylWei)\n",
    "root = optimize.fsolve(objective_fnc,-1,args=data)\n",
    "print(\"Numerically calculated z0 = \",root)\n",
    "cyl3  = Cyl( data[0], root, data[1], data[2] )\n",
    "\n",
    "cylWei = 20000 #kg\n",
    "data = (20, 2, 0.5, cylWei)\n",
    "root = optimize.fsolve(objective_fnc,-1,args=data)\n",
    "print(\"Numerically calculated z0 = \",root)\n",
    "cyl4  = Cyl( data[0], root, data[1], data[2] )"
   ]
  },
  {
   "cell_type": "code",
   "execution_count": 24,
   "id": "26d2b896-c42e-4530-8673-922c8fec0561",
   "metadata": {},
   "outputs": [
    {
     "data": {
      "image/png": "[encoded data removed]",
      "text/plain": [
       "<Figure size 1500x600 with 2 Axes>"
      ]
     },
     "metadata": {},
     "output_type": "display_data"
    }
   ],
   "source": [
    "[X, Z] = np.meshgrid( np.arange(xdom[0], xdom[1]+1, 1), np.arange(-d, 0+1, 1) )\n",
    "Ps = statPressure(X, Z)\n",
    "\n",
    "\n",
    "plt.contourf(X, Z, Ps)\n",
    "plt.title('Static pressure')\n",
    "plt.xlabel('X (m)')\n",
    "plt.ylabel('Z (m)')\n",
    "cbar = plt.colorbar()\n",
    "cbar.set_label('Pressure (Pa)')\n",
    "\n",
    "cyl3.plotEle()\n",
    "cyl4.plotEle()\n",
    "\n",
    "#plt.grid(\"on\")\n",
    "plt.axis(\"equal\")\n",
    "plt.show()\n",
    "pass"
   ]
  }
 ],
 "metadata": {
  "kernelspec": {
   "display_name": "fss",
   "language": "python",
   "name": "python3"
  },
  "language_info": {
   "codemirror_mode": {
    "name": "ipython",
    "version": 3
   },
   "file_extension": ".py",
   "mimetype": "text/x-python",
   "name": "python",
   "nbconvert_exporter": "python",
   "pygments_lexer": "ipython3",
   "version": "3.13.2"
  }
 },
 "nbformat": 4,
 "nbformat_minor": 5
}
